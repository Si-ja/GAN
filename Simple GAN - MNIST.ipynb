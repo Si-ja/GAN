{
 "cells": [
  {
   "cell_type": "code",
   "execution_count": 63,
   "metadata": {},
   "outputs": [],
   "source": [
    "import os\n",
    "import torch\n",
    "import torchvision\n",
    "import torch.nn as nn\n",
    "import torchvision.utils as vutils\n",
    "import torch.nn.functional as F\n",
    "\n",
    "from torchvision import transforms\n",
    "from torchvision.utils import save_image\n",
    "\n",
    "from collections import OrderedDict \n",
    "\n",
    "import matplotlib.pyplot as plt\n",
    "\n",
    "import random\n",
    "\n",
    "import numpy as np"
   ]
  },
  {
   "cell_type": "code",
   "execution_count": 2,
   "metadata": {},
   "outputs": [
    {
     "name": "stdout",
     "output_type": "stream",
     "text": [
      "Currently using [cuda] as the main device\n"
     ]
    }
   ],
   "source": [
    "# Put everything on a GPU if that is availalbe\n",
    "device = torch.device(\"cuda\" if torch.cuda.is_available() else \"cpu\")\n",
    "print(f\"Currently using [{device}] as the main device\")"
   ]
  },
  {
   "cell_type": "markdown",
   "metadata": {},
   "source": [
    "### A seperate attempt with CNNs on GANs\n",
    "\n",
    "Following lessons on https://iq.opengenus.org/deep-convolutional-gans-pytorch/"
   ]
  },
  {
   "cell_type": "code",
   "execution_count": 4,
   "metadata": {},
   "outputs": [],
   "source": [
    "# Image transformation class and image extraction\n",
    "transform = transforms.Compose([\n",
    "    transforms.RandomPerspective(distortion_scale=0.3, p=0.3),\n",
    "    transforms.RandomRotation(degrees=(0, 80)),\n",
    "    transforms.ToTensor(),\n",
    "    transforms.Normalize(mean=[0.5],\n",
    "                         std=[0.5])\n",
    "])\n",
    "\n",
    "transform_clean = transforms.Compose([\n",
    "    transforms.ToTensor(),\n",
    "    transforms.Normalize(mean=[0.5],\n",
    "                         std=[0.5])\n",
    "])\n",
    "\n",
    "mnist = torchvision.datasets.MNIST(root=\"./data\",\n",
    "                                   train=True,\n",
    "                                   transform=transform,\n",
    "                                   download=True)\n",
    "\n",
    "mnist_clean = torchvision.datasets.MNIST(root=\"./data\",\n",
    "                                   train=True,\n",
    "                                   transform=transform_clean,\n",
    "                                   download=True)\n",
    "\n",
    "data_loader = torch.utils.data.DataLoader(dataset=mnist,\n",
    "                                          batch_size=batch_size,\n",
    "                                          shuffle=True)\n",
    "\n",
    "data_loader_clean = torch.utils.data.DataLoader(dataset=mnist_clean,\n",
    "                                                batch_size=batch_size,\n",
    "                                                shuffle=True)"
   ]
  },
  {
   "cell_type": "code",
   "execution_count": 5,
   "metadata": {},
   "outputs": [],
   "source": [
    "class Discriminator(nn.Module):\n",
    "    \n",
    "    def __init__(self):\n",
    "        super(Discriminator, self).__init__()\n",
    "        \n",
    "        self.conv1 = nn.Conv2d(in_channels=1, out_channels=32, kernel_size=5, stride=1, padding=2)\n",
    "        self.conv1_bn = nn.BatchNorm2d(num_features=32)\n",
    "        self.dropout1 = nn.Dropout(p=0.25)\n",
    "        \n",
    "        self.conv2 = nn.Conv2d(in_channels=32, out_channels=64, kernel_size=5, stride=1, padding=2)\n",
    "        self.conv2_bn = nn.BatchNorm2d(num_features=64)\n",
    "        self.maxpool2 = nn.MaxPool2d(kernel_size=2, stride = 2)\n",
    "        self.dropout2 = nn.Dropout(p=0.4)\n",
    "        \n",
    "        self.fc1 = nn.Linear(in_features=7*7*64, out_features=512, bias=True)\n",
    "        self.out = nn.Linear(in_features=512, out_features=1)\n",
    "        self.activation = nn.Sigmoid()\n",
    "        \n",
    "    def forward(self, t):\n",
    "        # (1) input layer\n",
    "        t = t\n",
    "        \n",
    "        # (2) hidden conv layer\n",
    "        t = self.conv1(t)\n",
    "        t = self.conv1_bn(t)\n",
    "        t = F.relu(t)\n",
    "        t = F.max_pool2d(t, kernel_size=2, stride=2)\n",
    "        t = self.dropout1(t)\n",
    "        \n",
    "        # (3) hiddne conv layer\n",
    "        t = self.conv2(t)\n",
    "        t = self.conv2_bn(t)\n",
    "        t = F.relu(t)\n",
    "        t = F.max_pool2d(t, kernel_size=2, stride=2)\n",
    "        t = self.dropout2(t)\n",
    "        \n",
    "        # (4) hidden linear layer\n",
    "        t = t.reshape(-1, 7*7*64)\n",
    "        t = self.fc1(t)\n",
    "        t = F.relu(t)\n",
    "        \n",
    "        # (5) output layer\n",
    "        t = self.out(t)\n",
    "        t = self.activation(t)\n",
    "        #t = F.sigmoid(t)\n",
    "        \n",
    "        return t"
   ]
  },
  {
   "cell_type": "code",
   "execution_count": 6,
   "metadata": {},
   "outputs": [],
   "source": [
    "class Generator(nn.Module):\n",
    "    \n",
    "    def __init__(self):\n",
    "        super(Generator, self).__init__()\n",
    "        # I'm sure there is a mathematical explanation to how upsampling of correct dimensions happen\n",
    "        # But I don't know it and had to eyeball it...good luck changing or debugging this future me.\n",
    "        self.deconv1 = nn.ConvTranspose2d(in_channels=100, out_channels=512, kernel_size=4, stride=1, padding=0)\n",
    "        self.deconv1_bn = nn.BatchNorm2d(num_features=512)\n",
    "        \n",
    "        self.deconv2 = nn.ConvTranspose2d(in_channels=512, out_channels=256, kernel_size=4, stride=2, padding=0)\n",
    "        self.deconv2_bn = nn.BatchNorm2d(num_features=256)\n",
    "        \n",
    "        self.deconv3 = nn.ConvTranspose2d(in_channels=256, out_channels=128, kernel_size=5, stride=2, padding=0)\n",
    "        self.deconv3_bn = nn.BatchNorm2d(num_features=128)\n",
    "        \n",
    "        self.deconv4 = nn.ConvTranspose2d(in_channels=128, out_channels=1, kernel_size=6, stride=1, padding=0)\n",
    "        self.activation = nn.Tanh()\n",
    "\n",
    "    def forward(self, input):\n",
    "        \n",
    "        # (1) Hidden ConvTranspose2D layer\n",
    "        t = self.deconv1(input)\n",
    "        t = self.deconv1_bn(t)\n",
    "        t = F.relu(t)\n",
    "        \n",
    "        # (2) Hidden ConvTranspose2D layer\n",
    "        t = self.deconv2(t)\n",
    "        t = self.deconv2_bn(t)\n",
    "        t = F.relu(t)\n",
    "        \n",
    "        # (3) Hidden ConvTranspose2D layer\n",
    "        t = self.deconv3(t)\n",
    "        t = self.deconv3_bn(t)\n",
    "        t = F.relu(t)\n",
    "        \n",
    "        # (4) Upscale and ouput layer\n",
    "        t = self.deconv4(t)\n",
    "        # t = F.tanh(t)\n",
    "        t = self.activation(t)\n",
    "        \n",
    "        return t"
   ]
  },
  {
   "cell_type": "code",
   "execution_count": 7,
   "metadata": {},
   "outputs": [],
   "source": [
    "def weights_init(m):\n",
    "    \"\"\"\n",
    "    Reference: https://debuggercafe.com/implementing-deep-convolutional-gan-with-pytorch/\n",
    "    \n",
    "    This function initializes the model weights randomly from a \n",
    "    Normal distribution. This follows the specification from the DCGAN paper.\n",
    "    https://arxiv.org/pdf/1511.06434.pdf\n",
    "    Source: https://pytorch.org/tutorials/beginner/dcgan_faces_tutorial.html\n",
    "    \"\"\"\n",
    "    classname = m.__class__.__name__\n",
    "    if classname.find(\"Conv\") != -1:\n",
    "        nn.init.normal_(m.weight.data, 0.0, 0.02)\n",
    "    elif classname.find(\"BatchNorm\") != -1:\n",
    "        nn.init.normal_(m.weight.data, 1.0, 0.02)\n",
    "        nn.init.constant_(m.bias.data, 0)"
   ]
  },
  {
   "cell_type": "code",
   "execution_count": 8,
   "metadata": {},
   "outputs": [
    {
     "name": "stdout",
     "output_type": "stream",
     "text": [
      "Generator(\n",
      "  (deconv1): ConvTranspose2d(100, 512, kernel_size=(4, 4), stride=(1, 1))\n",
      "  (deconv1_bn): BatchNorm2d(512, eps=1e-05, momentum=0.1, affine=True, track_running_stats=True)\n",
      "  (deconv2): ConvTranspose2d(512, 256, kernel_size=(4, 4), stride=(2, 2))\n",
      "  (deconv2_bn): BatchNorm2d(256, eps=1e-05, momentum=0.1, affine=True, track_running_stats=True)\n",
      "  (deconv3): ConvTranspose2d(256, 128, kernel_size=(5, 5), stride=(2, 2))\n",
      "  (deconv3_bn): BatchNorm2d(128, eps=1e-05, momentum=0.1, affine=True, track_running_stats=True)\n",
      "  (deconv4): ConvTranspose2d(128, 1, kernel_size=(6, 6), stride=(1, 1))\n",
      "  (activation): Tanh()\n",
      ")\n",
      "Discriminator(\n",
      "  (conv1): Conv2d(1, 32, kernel_size=(5, 5), stride=(1, 1), padding=(2, 2))\n",
      "  (conv1_bn): BatchNorm2d(32, eps=1e-05, momentum=0.1, affine=True, track_running_stats=True)\n",
      "  (dropout1): Dropout(p=0.25)\n",
      "  (conv2): Conv2d(32, 64, kernel_size=(5, 5), stride=(1, 1), padding=(2, 2))\n",
      "  (conv2_bn): BatchNorm2d(64, eps=1e-05, momentum=0.1, affine=True, track_running_stats=True)\n",
      "  (maxpool2): MaxPool2d(kernel_size=2, stride=2, padding=0, dilation=1, ceil_mode=False)\n",
      "  (dropout2): Dropout(p=0.4)\n",
      "  (fc1): Linear(in_features=3136, out_features=512, bias=True)\n",
      "  (out): Linear(in_features=512, out_features=1, bias=True)\n",
      "  (activation): Sigmoid()\n",
      ")\n"
     ]
    }
   ],
   "source": [
    "# Create Networks\n",
    "G = Generator()\n",
    "D = Discriminator()\n",
    "\n",
    "# Move them to devices\n",
    "D = D.to(device)\n",
    "G = G.to(device)\n",
    "\n",
    "# Chose the criterion - which is Binary Classifier and create optimizers\n",
    "criterion = nn.BCELoss()\n",
    "d_optimizer = torch.optim.Adam(D.parameters(), lr=0.0002)\n",
    "g_optimizer = torch.optim.Adam(G.parameters(), lr=0.0002)\n",
    "\n",
    "# initialize generator and discriminator weights\n",
    "G.apply(weights_init)\n",
    "D.apply(weights_init)\n",
    "\n",
    "print(G)\n",
    "print(D)"
   ]
  },
  {
   "cell_type": "code",
   "execution_count": 158,
   "metadata": {},
   "outputs": [
    {
     "name": "stdout",
     "output_type": "stream",
     "text": [
      "real data 1.0 <- [0.5085238814353943] -> 0.0 fake data\n"
     ]
    },
    {
     "data": {
      "image/png": "[encoded data removed]",
      "text/plain": [
       "<Figure size 432x288 with 1 Axes>"
      ]
     },
     "metadata": {
      "needs_background": "light"
     },
     "output_type": "display_data"
    }
   ],
   "source": [
    "# Verify that currntly only random noise is being generated in correct proportions\n",
    "G.eval()\n",
    "D.eval()\n",
    "\n",
    "with torch.no_grad():\n",
    "    _z = torch.randn((1, 100)).view(-1, 100, 1, 1)\n",
    "    some_img = G(_z.to(device))\n",
    "    print(f\"real data 1.0 <- [{D(some_img)[0][0]}] -> 0.0 fake data\")\n",
    "\n",
    "    # See how well the generator works now\n",
    "    plt.imshow(some_img.detach().clone().cpu().reshape(28, 28))"
   ]
  },
  {
   "cell_type": "code",
   "execution_count": 40,
   "metadata": {},
   "outputs": [
    {
     "name": "stdout",
     "output_type": "stream",
     "text": [
      "Epoch: [1/10], Step: [500/1875], D_loss: 0.881, G_loss: 1.377, D(x): 0.714, D(G(z)): 0.287\n",
      "Epoch: [1/10], Step: [1000/1875], D_loss: 1.123, G_loss: 1.232, D(x): 0.68, D(G(z)): 0.389\n",
      "Epoch: [1/10], Step: [1500/1875], D_loss: 1.126, G_loss: 1.334, D(x): 0.648, D(G(z)): 0.374\n",
      "==================================================================================================\n",
      "Epoch: [2/10], Step: [500/1875], D_loss: 1.242, G_loss: 1.424, D(x): 0.629, D(G(z)): 0.359\n",
      "Epoch: [2/10], Step: [1000/1875], D_loss: 0.778, G_loss: 1.372, D(x): 0.746, D(G(z)): 0.292\n",
      "Epoch: [2/10], Step: [1500/1875], D_loss: 0.701, G_loss: 2.422, D(x): 0.683, D(G(z)): 0.197\n",
      "==================================================================================================\n",
      "Epoch: [3/10], Step: [500/1875], D_loss: 0.837, G_loss: 2.093, D(x): 0.656, D(G(z)): 0.242\n",
      "Epoch: [3/10], Step: [1000/1875], D_loss: 0.731, G_loss: 1.368, D(x): 0.74, D(G(z)): 0.257\n",
      "Epoch: [3/10], Step: [1500/1875], D_loss: 1.026, G_loss: 1.198, D(x): 0.686, D(G(z)): 0.347\n",
      "==================================================================================================\n",
      "Epoch: [4/10], Step: [500/1875], D_loss: 0.764, G_loss: 1.612, D(x): 0.74, D(G(z)): 0.263\n",
      "Epoch: [4/10], Step: [1000/1875], D_loss: 0.921, G_loss: 2.011, D(x): 0.57, D(G(z)): 0.126\n",
      "Epoch: [4/10], Step: [1500/1875], D_loss: 0.839, G_loss: 1.885, D(x): 0.875, D(G(z)): 0.395\n",
      "==================================================================================================\n",
      "Epoch: [5/10], Step: [500/1875], D_loss: 0.979, G_loss: 2.434, D(x): 0.555, D(G(z)): 0.148\n",
      "Epoch: [5/10], Step: [1000/1875], D_loss: 0.645, G_loss: 1.563, D(x): 0.784, D(G(z)): 0.261\n",
      "Epoch: [5/10], Step: [1500/1875], D_loss: 0.857, G_loss: 1.478, D(x): 0.859, D(G(z)): 0.423\n",
      "==================================================================================================\n",
      "Epoch: [6/10], Step: [500/1875], D_loss: 0.704, G_loss: 1.689, D(x): 0.776, D(G(z)): 0.305\n",
      "Epoch: [6/10], Step: [1000/1875], D_loss: 1.066, G_loss: 1.436, D(x): 0.683, D(G(z)): 0.421\n",
      "Epoch: [6/10], Step: [1500/1875], D_loss: 0.826, G_loss: 1.382, D(x): 0.727, D(G(z)): 0.304\n",
      "==================================================================================================\n",
      "Epoch: [7/10], Step: [500/1875], D_loss: 1.202, G_loss: 2.072, D(x): 0.659, D(G(z)): 0.376\n",
      "Epoch: [7/10], Step: [1000/1875], D_loss: 0.927, G_loss: 1.648, D(x): 0.669, D(G(z)): 0.21\n",
      "Epoch: [7/10], Step: [1500/1875], D_loss: 0.822, G_loss: 2.287, D(x): 0.724, D(G(z)): 0.295\n",
      "==================================================================================================\n",
      "Epoch: [8/10], Step: [500/1875], D_loss: 0.9, G_loss: 1.588, D(x): 0.713, D(G(z)): 0.321\n",
      "Epoch: [8/10], Step: [1000/1875], D_loss: 0.831, G_loss: 1.411, D(x): 0.732, D(G(z)): 0.293\n",
      "Epoch: [8/10], Step: [1500/1875], D_loss: 0.895, G_loss: 2.527, D(x): 0.607, D(G(z)): 0.207\n",
      "==================================================================================================\n",
      "Epoch: [9/10], Step: [500/1875], D_loss: 1.016, G_loss: 1.525, D(x): 0.698, D(G(z)): 0.346\n",
      "Epoch: [9/10], Step: [1000/1875], D_loss: 0.956, G_loss: 1.25, D(x): 0.8, D(G(z)): 0.382\n",
      "Epoch: [9/10], Step: [1500/1875], D_loss: 1.043, G_loss: 1.997, D(x): 0.652, D(G(z)): 0.354\n",
      "==================================================================================================\n",
      "Epoch: [10/10], Step: [500/1875], D_loss: 0.91, G_loss: 1.449, D(x): 0.713, D(G(z)): 0.28\n",
      "Epoch: [10/10], Step: [1000/1875], D_loss: 0.799, G_loss: 1.615, D(x): 0.726, D(G(z)): 0.29\n",
      "Epoch: [10/10], Step: [1500/1875], D_loss: 1.047, G_loss: 1.509, D(x): 0.718, D(G(z)): 0.417\n",
      "==================================================================================================\n"
     ]
    }
   ],
   "source": [
    "# Create a training structure\n",
    "total_steps = len(data_loader_clean)\n",
    "\n",
    "# Update some hyperparameters depending on our preference in how to use them\n",
    "num_epochs = 10\n",
    "batch_size = 64\n",
    "\n",
    "# Put the networks into the training mode\n",
    "D.train()\n",
    "G.train()\n",
    "\n",
    "# Initiate the steps through epochs\n",
    "for epoch in range(num_epochs):\n",
    "    for i, (images, _) in enumerate(data_loader_clean):\n",
    "        \n",
    "        mini_batch = images.size()[0]\n",
    "        \n",
    "        # Create labels with which we identify the data\n",
    "        real_labels = torch.ones(mini_batch, 1).to(device)\n",
    "        fake_labels = torch.zeros(mini_batch, 1).to(device)\n",
    "        \n",
    "        # !!!!!!!!!!!!!!!!!!!!!!! TRAIN THE DISCRIMINATOR !!!!!!!!!!!!!!!!!!!!!!!\n",
    "        D.zero_grad()\n",
    "        images = images.to(device)\n",
    "        outputs = D(images.to(device))\n",
    "        \n",
    "        d_loss_real = criterion(outputs, real_labels)\n",
    "        real_score = outputs\n",
    "        \n",
    "        # Computer the Binary Cross Entropy with fake images, that are generated by the Generator from random noise\n",
    "        z = torch.randn((mini_batch, 100)).view(-1, 100, 1, 1).to(device)\n",
    "        fake_images = G(z)\n",
    "        outputs = D(fake_images)\n",
    "        d_loss_fake = criterion(outputs, fake_labels)\n",
    "        fake_score = outputs\n",
    "        \n",
    "        # Calculate the value for backpropogation and optimize\n",
    "        d_loss = d_loss_real + d_loss_fake\n",
    "        d_loss.backward()\n",
    "        d_optimizer.step()\n",
    "        \n",
    "        # !!!!!!!!!!!!!!!!!!!!!!! TRAIN THE GENERATOR !!!!!!!!!!!!!!!!!!!!!!!\n",
    "        G.zero_grad()\n",
    "        z = torch.randn((mini_batch, 100)).view(-1, 100, 1, 1).to(device)\n",
    "        fake_images = G(z)\n",
    "        outputs = D(fake_images)\n",
    "        \n",
    "        # We train G to maximize log(D(G(z)) instead of minimizing log(1-D(G(z)))\n",
    "        g_loss = criterion(outputs, real_labels)\n",
    "        \n",
    "        # Backpropogation and optimization\n",
    "        g_loss.backward()\n",
    "        g_optimizer.step()\n",
    "        \n",
    "        if (i+1) % 500 == 0:\n",
    "            log = (\n",
    "                f\"Epoch: [{epoch+1}/{num_epochs}], \"             \\\n",
    "                f\"Step: [{i+1}/{total_steps}], \"                 \\\n",
    "                f\"D_loss: {round(d_loss.item(), 3)}, \"           \\\n",
    "                f\"G_loss: {round(g_loss.item(), 3)}, \"           \\\n",
    "                f\"D(x): {round(real_score.mean().item(), 3)}, \"  \\\n",
    "                f\"D(G(z)): {round(fake_score.mean().item(), 3)}\"\n",
    "            )\n",
    "            print(log)\n",
    "    print(\"==================================================================================================\")"
   ]
  },
  {
   "cell_type": "code",
   "execution_count": 100,
   "metadata": {},
   "outputs": [
    {
     "data": {
      "image/png": "[encoded data removed]",
      "text/plain": [
       "<Figure size 432x288 with 9 Axes>"
      ]
     },
     "metadata": {
      "needs_background": "light"
     },
     "output_type": "display_data"
    }
   ],
   "source": [
    "G.eval()\n",
    "D.eval()\n",
    "\n",
    "rows = 3\n",
    "cols = 3\n",
    "axes=[]\n",
    "fig=plt.figure()\n",
    "\n",
    "with torch.no_grad():\n",
    "    for a in range(rows*cols):\n",
    "        _z = torch.randn((1, 100)).view(-1, 100, 1, 1)\n",
    "        some_img = G(_z.to(device))\n",
    "        axes.append(fig.add_subplot(rows, cols, a+1))\n",
    "        subplot_title=(f\"Real: {str(round(D(some_img).item(), 2))}%\")\n",
    "        axes[-1].set_title(subplot_title)  \n",
    "        plt.imshow(some_img.detach().clone().cpu().reshape(28, 28), cmap=plt.cm.gray)\n",
    "    fig.tight_layout()    \n",
    "    plt.show()"
   ]
  },
  {
   "cell_type": "code",
   "execution_count": 92,
   "metadata": {},
   "outputs": [
    {
     "data": {
      "text/plain": [
       "torch.Size([1, 28, 28])"
      ]
     },
     "execution_count": 92,
     "metadata": {},
     "output_type": "execute_result"
    }
   ],
   "source": [
    "x_val.size()"
   ]
  },
  {
   "cell_type": "code",
   "execution_count": 103,
   "metadata": {},
   "outputs": [
    {
     "data": {
      "image/png": "[encoded data removed]",
      "text/plain": [
       "<Figure size 432x288 with 9 Axes>"
      ]
     },
     "metadata": {
      "needs_background": "light"
     },
     "output_type": "display_data"
    }
   ],
   "source": [
    "rows = 3\n",
    "cols = 3\n",
    "axes=[]\n",
    "fig=plt.figure()\n",
    "\n",
    "for a in range(rows*cols):\n",
    "    idx=random.randint(0, random.randint(0, len(mnist_clean)))\n",
    "    x_val, y_label = mnist_clean[idx]\n",
    "    x_val = x_val.view(-1, 1, 28, 28).to(device)\n",
    "    axes.append(fig.add_subplot(rows, cols, a+1))\n",
    "    subplot_title=(f\"Real: {str(round(D(x_val).item(), 2))}%\")\n",
    "    axes[-1].set_title(subplot_title)\n",
    "    plt.imshow(x_val.detach().clone().cpu().squeeze().numpy(), cmap=plt.cm.gray)\n",
    "fig.tight_layout()  \n",
    "plt.show()"
   ]
  },
  {
   "cell_type": "code",
   "execution_count": 67,
   "metadata": {},
   "outputs": [
    {
     "name": "stdout",
     "output_type": "stream",
     "text": [
      "tensor([[0.0683]], device='cuda:0')\n"
     ]
    },
    {
     "data": {
      "image/png": "[encoded data removed]",
      "text/plain": [
       "<Figure size 432x288 with 1 Axes>"
      ]
     },
     "metadata": {
      "needs_background": "light"
     },
     "output_type": "display_data"
    }
   ],
   "source": [
    "# And verify that our Discriminator has no clue what it is predicting\n",
    "G.eval()\n",
    "D.eval()\n",
    "\n",
    "with torch.no_grad():\n",
    "    _z = torch.randn((1, 100)).view(-1, 100, 1, 1)\n",
    "    some_img = G(_z.to(device))\n",
    "    print(D(some_img))\n",
    "\n",
    "    # See how well the generator works now\n",
    "    plt.imshow(some_img.detach().clone().cpu().reshape(28, 28))"
   ]
  },
  {
   "cell_type": "code",
   "execution_count": 73,
   "metadata": {},
   "outputs": [
    {
     "data": {
      "text/plain": [
       "0.41"
      ]
     },
     "execution_count": 73,
     "metadata": {},
     "output_type": "execute_result"
    }
   ],
   "source": [
    "round(D(some_img).item(), 2)"
   ]
  },
  {
   "cell_type": "code",
   "execution_count": 101,
   "metadata": {},
   "outputs": [],
   "source": [
    "# Save the model checkpoints \n",
    "torch.save(G.state_dict(), 'G_conv.ckpt')\n",
    "torch.save(D.state_dict(), 'D_conv.ckpt')"
   ]
  },
  {
   "cell_type": "code",
   "execution_count": null,
   "metadata": {},
   "outputs": [],
   "source": []
  },
  {
   "cell_type": "code",
   "execution_count": null,
   "metadata": {},
   "outputs": [],
   "source": []
  },
  {
   "cell_type": "code",
   "execution_count": null,
   "metadata": {},
   "outputs": [],
   "source": []
  },
  {
   "cell_type": "code",
   "execution_count": null,
   "metadata": {},
   "outputs": [],
   "source": []
  },
  {
   "cell_type": "code",
   "execution_count": null,
   "metadata": {},
   "outputs": [],
   "source": []
  },
  {
   "cell_type": "code",
   "execution_count": 489,
   "metadata": {},
   "outputs": [],
   "source": [
    "# Hyper Parameters\n",
    "latent_size = 64\n",
    "hidden_size = 256\n",
    "image_size = 784\n",
    "num_epochs = 5\n",
    "batch_size = 32\n",
    "\n",
    "encoder_size = 64\n",
    "hidden_size_min = 256\n",
    "hidden_size_mid = 256"
   ]
  },
  {
   "cell_type": "code",
   "execution_count": 490,
   "metadata": {},
   "outputs": [],
   "source": [
    "# Image transformation class and image extraction\n",
    "transform = transforms.Compose([\n",
    "    transforms.RandomPerspective(distortion_scale=0.3, p=0.3),\n",
    "    transforms.RandomRotation(degrees=(0, 80)),\n",
    "    transforms.ToTensor(),\n",
    "    transforms.Normalize(mean=[0.5],\n",
    "                         std=[0.5])\n",
    "])\n",
    "\n",
    "transform_clean = transforms.Compose([\n",
    "    transforms.ToTensor(),\n",
    "    transforms.Normalize(mean=[0.5],\n",
    "                         std=[0.5])\n",
    "])\n",
    "\n",
    "mnist = torchvision.datasets.MNIST(root=\"./data\",\n",
    "                                   train=True,\n",
    "                                   transform=transform,\n",
    "                                   download=True)\n",
    "\n",
    "mnist_clean = torchvision.datasets.MNIST(root=\"./data\",\n",
    "                                   train=True,\n",
    "                                   transform=transform_clean,\n",
    "                                   download=True)\n",
    "\n",
    "data_loader = torch.utils.data.DataLoader(dataset=mnist,\n",
    "                                          batch_size=batch_size,\n",
    "                                          shuffle=True)"
   ]
  },
  {
   "cell_type": "code",
   "execution_count": 491,
   "metadata": {},
   "outputs": [],
   "source": [
    "# Prepare the Generator and Discriminator\n",
    "D = nn.Sequential(\n",
    "    OrderedDict([\n",
    "                 (\"fc1\",   nn.Linear(in_features=image_size, \n",
    "                                     out_features=hidden_size,\n",
    "                                     bias=True)),\n",
    "                 (\"relu1\", nn.LeakyReLU(negative_slope=0.2)),\n",
    "                 (\"fc2\",   nn.Linear(in_features=hidden_size, \n",
    "                                     out_features=hidden_size,\n",
    "                                     bias=True)),\n",
    "                 (\"relu2\", nn.LeakyReLU(negative_slope=0.2)),\n",
    "                 (\"fc3\",   nn.Linear(in_features=hidden_size,\n",
    "                                     out_features=1,\n",
    "                                     bias=True)),\n",
    "                 (\"activ\", nn.Sigmoid())\n",
    "    ])\n",
    ")\n",
    "\n",
    "G = nn.Sequential(\n",
    "    OrderedDict([\n",
    "                 (\"fc1\",   nn.Linear(in_features=latent_size,\n",
    "                                     out_features=hidden_size,\n",
    "                                     bias=True)),\n",
    "                 (\"relu1\", nn.ReLU()),\n",
    "                 (\"fc2\",   nn.Linear(in_features=hidden_size,\n",
    "                                     out_features=hidden_size,\n",
    "                                     bias=True)),\n",
    "                 (\"relu2\", nn.ReLU()),\n",
    "                 (\"fc3\",   nn.Linear(in_features=hidden_size,\n",
    "                                     out_features=image_size,\n",
    "                                     bias=True)),\n",
    "                 (\"activ\", nn.Tanh())\n",
    "    ])\n",
    ")"
   ]
  },
  {
   "cell_type": "code",
   "execution_count": 492,
   "metadata": {},
   "outputs": [],
   "source": [
    "# Prepare Encoder\n",
    "E = nn.Sequential(\n",
    "    OrderedDict([\n",
    "        (\"InLayer\", nn.Linear(in_features=image_size, \n",
    "                              out_features=encoder_size,\n",
    "                              bias=True)),\n",
    "        (\"relu1\", nn.ReLU()),\n",
    "        (\"LatentSpace\", nn.Linear(in_features=encoder_size, \n",
    "                                  out_features=hidden_size_min,\n",
    "                                  bias=True)),\n",
    "        (\"relu2\", nn.ReLU()),\n",
    "        (\"fc1\", nn.Linear(in_features=hidden_size_min, \n",
    "                          out_features=hidden_size_mid,\n",
    "                          bias=True)),\n",
    "        (\"relu3\", nn.ReLU()),\n",
    "        (\"OutLayer\", nn.Linear(in_features=hidden_size_mid, \n",
    "                               out_features=image_size,\n",
    "                               bias=True)),\n",
    "        (\"activation\", nn.Tanh())\n",
    "    ])\n",
    ")"
   ]
  },
  {
   "cell_type": "code",
   "execution_count": 493,
   "metadata": {},
   "outputs": [
    {
     "name": "stdout",
     "output_type": "stream",
     "text": [
      "Sequential(\n",
      "  (fc1): Linear(in_features=784, out_features=256, bias=True)\n",
      "  (relu1): LeakyReLU(negative_slope=0.2)\n",
      "  (fc2): Linear(in_features=256, out_features=256, bias=True)\n",
      "  (relu2): LeakyReLU(negative_slope=0.2)\n",
      "  (fc3): Linear(in_features=256, out_features=1, bias=True)\n",
      "  (activ): Sigmoid()\n",
      ")\n",
      "Sequential(\n",
      "  (fc1): Linear(in_features=64, out_features=256, bias=True)\n",
      "  (relu1): ReLU()\n",
      "  (fc2): Linear(in_features=256, out_features=256, bias=True)\n",
      "  (relu2): ReLU()\n",
      "  (fc3): Linear(in_features=256, out_features=784, bias=True)\n",
      "  (activ): Tanh()\n",
      ")\n",
      "Sequential(\n",
      "  (InLayer): Linear(in_features=784, out_features=64, bias=True)\n",
      "  (relu1): ReLU()\n",
      "  (LatentSpace): Linear(in_features=64, out_features=256, bias=True)\n",
      "  (relu2): ReLU()\n",
      "  (fc1): Linear(in_features=256, out_features=256, bias=True)\n",
      "  (relu3): ReLU()\n",
      "  (OutLayer): Linear(in_features=256, out_features=784, bias=True)\n",
      "  (activation): Tanh()\n",
      ")\n"
     ]
    }
   ],
   "source": [
    "print(D)\n",
    "print(G)\n",
    "print(E)"
   ]
  },
  {
   "cell_type": "code",
   "execution_count": 494,
   "metadata": {},
   "outputs": [],
   "source": [
    "# Put the networks to a functioning device\n",
    "D = D.to(device)\n",
    "G = G.to(device)\n",
    "E = E.to(device)"
   ]
  },
  {
   "cell_type": "code",
   "execution_count": 501,
   "metadata": {},
   "outputs": [],
   "source": [
    "# First we prepare the encoder decoder working parameters\n",
    "e_criterion = nn.MSELoss()\n",
    "e_optimizer = torch.optim.Adam(E.parameters(), lr=0.0002)"
   ]
  },
  {
   "cell_type": "code",
   "execution_count": 496,
   "metadata": {},
   "outputs": [
    {
     "name": "stdout",
     "output_type": "stream",
     "text": [
      "epoch : 1/30, loss = 0.926367\n",
      "epoch : 2/30, loss = 0.919902\n",
      "epoch : 3/30, loss = 0.912856\n",
      "epoch : 4/30, loss = 0.903646\n",
      "epoch : 5/30, loss = 0.890527\n",
      "epoch : 6/30, loss = 0.870679\n",
      "epoch : 7/30, loss = 0.840043\n",
      "epoch : 8/30, loss = 0.792311\n",
      "epoch : 9/30, loss = 0.721224\n",
      "epoch : 10/30, loss = 0.625411\n",
      "epoch : 11/30, loss = 0.514716\n",
      "epoch : 12/30, loss = 0.413122\n",
      "epoch : 13/30, loss = 0.343283\n",
      "epoch : 14/30, loss = 0.305422\n",
      "epoch : 15/30, loss = 0.286317\n",
      "epoch : 16/30, loss = 0.275859\n",
      "epoch : 17/30, loss = 0.270720\n",
      "epoch : 18/30, loss = 0.267402\n",
      "epoch : 19/30, loss = 0.265194\n",
      "epoch : 20/30, loss = 0.263727\n",
      "epoch : 21/30, loss = 0.262747\n",
      "epoch : 22/30, loss = 0.262615\n",
      "epoch : 23/30, loss = 0.261838\n",
      "epoch : 24/30, loss = 0.260792\n",
      "epoch : 25/30, loss = 0.258757\n",
      "epoch : 26/30, loss = 0.257009\n",
      "epoch : 27/30, loss = 0.256411\n",
      "epoch : 28/30, loss = 0.255978\n",
      "epoch : 29/30, loss = 0.256076\n",
      "epoch : 30/30, loss = 0.255579\n",
      "epoch : 31/30, loss = 0.255428\n",
      "epoch : 32/30, loss = 0.255033\n",
      "epoch : 33/30, loss = 0.255034\n",
      "epoch : 34/30, loss = 0.255337\n",
      "epoch : 35/30, loss = 0.255104\n",
      "epoch : 36/30, loss = 0.254769\n",
      "epoch : 37/30, loss = 0.254280\n",
      "epoch : 38/30, loss = 0.254190\n",
      "epoch : 39/30, loss = 0.254199\n",
      "epoch : 40/30, loss = 0.254245\n",
      "epoch : 41/30, loss = 0.253799\n",
      "epoch : 42/30, loss = 0.253732\n",
      "epoch : 43/30, loss = 0.253740\n",
      "epoch : 44/30, loss = 0.253767\n",
      "epoch : 45/30, loss = 0.253463\n",
      "epoch : 46/30, loss = 0.253290\n",
      "epoch : 47/30, loss = 0.253241\n",
      "epoch : 48/30, loss = 0.253182\n",
      "epoch : 49/30, loss = 0.253361\n",
      "epoch : 50/30, loss = 0.252964\n"
     ]
    }
   ],
   "source": [
    "# Prepare the training loop and execute it\n",
    "for epoch in range(50):\n",
    "    loss = 0\n",
    "    for i, (images, _) in enumerate(data_loader):\n",
    "        images =images.reshape(batch_size, -1).to(device)\n",
    "        \n",
    "        # reset the gradients back to zero\n",
    "        # PyTorch accumulates gradients on subsequent backward passes\n",
    "        e_optimizer.zero_grad()\n",
    "        \n",
    "        # compute reconstructions\n",
    "        outputs = E(images)\n",
    "        \n",
    "        # compute training reconstruction loss\n",
    "        train_loss = e_criterion(outputs, images)\n",
    "        \n",
    "        # compute accumulated gradients\n",
    "        train_loss.backward()\n",
    "        \n",
    "        # perform parameter update based on current gradients\n",
    "        e_optimizer.step()\n",
    "        \n",
    "        # add the mini-batch training loss to epoch loss\n",
    "        loss += train_loss.item()\n",
    "    \n",
    "    # compute the epoch training loss\n",
    "    loss = loss / len(data_loader)\n",
    "    \n",
    "    # display the epoch training loss\n",
    "    print(\"epoch : {}/{}, loss = {:.6f}\".format(epoch + 1, 30, loss))"
   ]
  },
  {
   "cell_type": "code",
   "execution_count": 451,
   "metadata": {},
   "outputs": [],
   "source": [
    "torch.save(E.state_dict(), 'E.ckpt')"
   ]
  },
  {
   "cell_type": "code",
   "execution_count": 256,
   "metadata": {},
   "outputs": [],
   "source": [
    "# Chose the criterion - which is Binary Classifier and create optimizers\n",
    "criterion = nn.BCELoss()\n",
    "d_optimizer = torch.optim.Adam(D.parameters(), lr=0.0002)\n",
    "g_optimizer = torch.optim.Adam(G.parameters(), lr=0.0002)"
   ]
  },
  {
   "cell_type": "code",
   "execution_count": 257,
   "metadata": {},
   "outputs": [],
   "source": [
    "def denorm(x):\n",
    "    out = (x + 1) / 2\n",
    "    return out.clamp(0, 1)\n",
    "\n",
    "def reset_grad():\n",
    "    d_optimizer.zero_grad()\n",
    "    g_optimizer.zero_grad()"
   ]
  },
  {
   "cell_type": "code",
   "execution_count": 333,
   "metadata": {},
   "outputs": [
    {
     "name": "stdout",
     "output_type": "stream",
     "text": [
      "Representing number 4\n"
     ]
    },
    {
     "data": {
      "text/plain": [
       "<matplotlib.colorbar.Colorbar at 0x1fca45dcb00>"
      ]
     },
     "execution_count": 333,
     "metadata": {},
     "output_type": "execute_result"
    },
    {
     "data": {
      "image/png": "[encoded data removed]",
      "text/plain": [
       "<Figure size 288x288 with 2 Axes>"
      ]
     },
     "metadata": {
      "needs_background": "light"
     },
     "output_type": "display_data"
    }
   ],
   "source": [
    "# An alternative way of showing the said data\n",
    "ix=64\n",
    "x, y = mnist[ix]\n",
    "plt.matshow(x.squeeze().numpy(), cmap=plt.cm.gray)\n",
    "print(f\"Representing number {y}\")\n",
    "plt.colorbar()"
   ]
  },
  {
   "cell_type": "code",
   "execution_count": 500,
   "metadata": {},
   "outputs": [
    {
     "name": "stdout",
     "output_type": "stream",
     "text": [
      "Representing number 5\n"
     ]
    },
    {
     "data": {
      "text/plain": [
       "<matplotlib.image.AxesImage at 0x1fcb1cbe358>"
      ]
     },
     "execution_count": 500,
     "metadata": {},
     "output_type": "execute_result"
    },
    {
     "data": {
      "image/png": "[encoded data removed]",
      "text/plain": [
       "<Figure size 432x288 with 2 Axes>"
      ]
     },
     "metadata": {
      "needs_background": "light"
     },
     "output_type": "display_data"
    }
   ],
   "source": [
    "idx=random.randint(0, random.randint(0, len(mnist_clean)))\n",
    "x_val, y_label = mnist_clean[idx]\n",
    "\n",
    "print(f\"Representing number {y_label}\")\n",
    "f, axarr = plt.subplots(1,2)\n",
    "\n",
    "new_x = E(x_val.to(device).reshape(1, -1).to(device))\n",
    "new_x = new_x.cpu().detach().reshape(-1, 28)\n",
    "\n",
    "# Original Value\n",
    "axarr[0].imshow(x_val.squeeze().numpy(), cmap=plt.cm.gray)\n",
    "# Generated through Encoding-Decoding\n",
    "axarr[1].imshow(new_x, cmap=plt.cm.gray)"
   ]
  },
  {
   "cell_type": "code",
   "execution_count": 261,
   "metadata": {},
   "outputs": [
    {
     "data": {
      "text/plain": [
       "<matplotlib.image.AxesImage at 0x1fcd6d3c4e0>"
      ]
     },
     "execution_count": 261,
     "metadata": {},
     "output_type": "execute_result"
    },
    {
     "data": {
      "image/png": "[encoded data removed]",
      "text/plain": [
       "<Figure size 432x288 with 1 Axes>"
      ]
     },
     "metadata": {
      "needs_background": "light"
     },
     "output_type": "display_data"
    }
   ],
   "source": [
    "plt.imshow(x.squeeze().numpy())"
   ]
  },
  {
   "cell_type": "code",
   "execution_count": 226,
   "metadata": {},
   "outputs": [
    {
     "name": "stdout",
     "output_type": "stream",
     "text": [
      "The image is related to the number: 4\n"
     ]
    },
    {
     "data": {
      "image/png": "[encoded data removed]",
      "text/plain": [
       "<Figure size 432x288 with 1 Axes>"
      ]
     },
     "metadata": {
      "needs_background": "light"
     },
     "output_type": "display_data"
    }
   ],
   "source": [
    "# # Let's make this data make more sense\n",
    "# instance_record = next(iter(data_loader))\n",
    "# plt.imshow(instance_record[0][0][0])      # Instance where matrices are stored, Entry in the batch, Entry in the instance\n",
    "# print(f\"The image is related to the number: {instance_record[1][0]}\")  # Instance where values are located, Entry in the instance"
   ]
  },
  {
   "cell_type": "code",
   "execution_count": null,
   "metadata": {},
   "outputs": [],
   "source": []
  },
  {
   "cell_type": "code",
   "execution_count": null,
   "metadata": {},
   "outputs": [],
   "source": []
  },
  {
   "cell_type": "code",
   "execution_count": 217,
   "metadata": {},
   "outputs": [
    {
     "name": "stdout",
     "output_type": "stream",
     "text": [
      "Epoch: [1/5], Step: [500/1875], D_loss: 0.015, G_loss: 5.89, D(x): 0.997, D(G(z)): 0.012\n",
      "Epoch: [1/5], Step: [1000/1875], D_loss: 0.086, G_loss: 4.801, D(x): 0.94, D(G(z)): 0.021\n",
      "Epoch: [1/5], Step: [1500/1875], D_loss: 0.192, G_loss: 4.261, D(x): 0.941, D(G(z)): 0.115\n",
      "==================================================================================================\n",
      "Epoch: [2/5], Step: [500/1875], D_loss: 0.128, G_loss: 2.879, D(x): 0.968, D(G(z)): 0.087\n",
      "Epoch: [2/5], Step: [1000/1875], D_loss: 0.136, G_loss: 2.609, D(x): 0.96, D(G(z)): 0.08\n",
      "Epoch: [2/5], Step: [1500/1875], D_loss: 0.116, G_loss: 6.096, D(x): 0.948, D(G(z)): 0.005\n",
      "==================================================================================================\n",
      "Epoch: [3/5], Step: [500/1875], D_loss: 0.042, G_loss: 6.041, D(x): 0.983, D(G(z)): 0.017\n",
      "Epoch: [3/5], Step: [1000/1875], D_loss: 0.41, G_loss: 2.99, D(x): 0.855, D(G(z)): 0.027\n",
      "Epoch: [3/5], Step: [1500/1875], D_loss: 0.298, G_loss: 5.983, D(x): 0.874, D(G(z)): 0.02\n",
      "==================================================================================================\n",
      "Epoch: [4/5], Step: [500/1875], D_loss: 0.295, G_loss: 5.744, D(x): 0.919, D(G(z)): 0.025\n",
      "Epoch: [4/5], Step: [1000/1875], D_loss: 0.097, G_loss: 5.469, D(x): 0.961, D(G(z)): 0.038\n",
      "Epoch: [4/5], Step: [1500/1875], D_loss: 0.043, G_loss: 4.644, D(x): 0.981, D(G(z)): 0.019\n",
      "==================================================================================================\n",
      "Epoch: [5/5], Step: [500/1875], D_loss: 0.507, G_loss: 3.56, D(x): 0.933, D(G(z)): 0.267\n",
      "Epoch: [5/5], Step: [1000/1875], D_loss: 0.482, G_loss: 4.244, D(x): 0.827, D(G(z)): 0.008\n",
      "Epoch: [5/5], Step: [1500/1875], D_loss: 0.207, G_loss: 4.149, D(x): 0.977, D(G(z)): 0.148\n",
      "==================================================================================================\n",
      "Epoch: [6/5], Step: [500/1875], D_loss: 0.205, G_loss: 5.196, D(x): 0.955, D(G(z)): 0.084\n",
      "Epoch: [6/5], Step: [1000/1875], D_loss: 0.18, G_loss: 5.465, D(x): 0.93, D(G(z)): 0.037\n",
      "Epoch: [6/5], Step: [1500/1875], D_loss: 0.491, G_loss: 9.323, D(x): 0.811, D(G(z)): 0.001\n",
      "==================================================================================================\n",
      "Epoch: [7/5], Step: [500/1875], D_loss: 0.154, G_loss: 4.169, D(x): 0.968, D(G(z)): 0.094\n",
      "Epoch: [7/5], Step: [1000/1875], D_loss: 0.228, G_loss: 5.66, D(x): 0.903, D(G(z)): 0.028\n",
      "Epoch: [7/5], Step: [1500/1875], D_loss: 0.219, G_loss: 5.376, D(x): 0.907, D(G(z)): 0.023\n",
      "==================================================================================================\n",
      "Epoch: [8/5], Step: [500/1875], D_loss: 0.495, G_loss: 2.749, D(x): 0.941, D(G(z)): 0.249\n",
      "Epoch: [8/5], Step: [1000/1875], D_loss: 0.178, G_loss: 4.737, D(x): 0.916, D(G(z)): 0.033\n",
      "Epoch: [8/5], Step: [1500/1875], D_loss: 0.236, G_loss: 3.912, D(x): 0.957, D(G(z)): 0.09\n",
      "==================================================================================================\n",
      "Epoch: [9/5], Step: [500/1875], D_loss: 0.174, G_loss: 3.134, D(x): 0.958, D(G(z)): 0.101\n",
      "Epoch: [9/5], Step: [1000/1875], D_loss: 0.44, G_loss: 4.196, D(x): 0.88, D(G(z)): 0.151\n",
      "Epoch: [9/5], Step: [1500/1875], D_loss: 0.29, G_loss: 3.984, D(x): 0.883, D(G(z)): 0.076\n",
      "==================================================================================================\n",
      "Epoch: [10/5], Step: [500/1875], D_loss: 0.312, G_loss: 3.167, D(x): 0.853, D(G(z)): 0.059\n",
      "Epoch: [10/5], Step: [1000/1875], D_loss: 0.366, G_loss: 4.103, D(x): 0.896, D(G(z)): 0.136\n",
      "Epoch: [10/5], Step: [1500/1875], D_loss: 0.776, G_loss: 2.863, D(x): 0.86, D(G(z)): 0.3\n",
      "==================================================================================================\n",
      "Epoch: [11/5], Step: [500/1875], D_loss: 0.237, G_loss: 4.116, D(x): 0.918, D(G(z)): 0.062\n",
      "Epoch: [11/5], Step: [1000/1875], D_loss: 0.351, G_loss: 2.36, D(x): 0.859, D(G(z)): 0.101\n",
      "Epoch: [11/5], Step: [1500/1875], D_loss: 0.412, G_loss: 2.154, D(x): 0.893, D(G(z)): 0.142\n",
      "==================================================================================================\n",
      "Epoch: [12/5], Step: [500/1875], D_loss: 0.421, G_loss: 2.132, D(x): 0.928, D(G(z)): 0.227\n",
      "Epoch: [12/5], Step: [1000/1875], D_loss: 0.298, G_loss: 3.51, D(x): 0.897, D(G(z)): 0.08\n",
      "Epoch: [12/5], Step: [1500/1875], D_loss: 0.631, G_loss: 2.181, D(x): 0.813, D(G(z)): 0.156\n",
      "==================================================================================================\n",
      "Epoch: [13/5], Step: [500/1875], D_loss: 0.485, G_loss: 4.227, D(x): 0.833, D(G(z)): 0.116\n",
      "Epoch: [13/5], Step: [1000/1875], D_loss: 0.698, G_loss: 2.818, D(x): 0.789, D(G(z)): 0.217\n",
      "Epoch: [13/5], Step: [1500/1875], D_loss: 0.726, G_loss: 2.1, D(x): 0.902, D(G(z)): 0.356\n",
      "==================================================================================================\n",
      "Epoch: [14/5], Step: [500/1875], D_loss: 0.531, G_loss: 3.599, D(x): 0.793, D(G(z)): 0.075\n",
      "Epoch: [14/5], Step: [1000/1875], D_loss: 0.278, G_loss: 3.574, D(x): 0.887, D(G(z)): 0.078\n",
      "Epoch: [14/5], Step: [1500/1875], D_loss: 0.304, G_loss: 4.286, D(x): 0.912, D(G(z)): 0.129\n",
      "==================================================================================================\n",
      "Epoch: [15/5], Step: [500/1875], D_loss: 0.439, G_loss: 3.874, D(x): 0.896, D(G(z)): 0.151\n",
      "Epoch: [15/5], Step: [1000/1875], D_loss: 0.299, G_loss: 2.469, D(x): 0.866, D(G(z)): 0.113\n",
      "Epoch: [15/5], Step: [1500/1875], D_loss: 0.783, G_loss: 2.926, D(x): 0.763, D(G(z)): 0.188\n",
      "==================================================================================================\n",
      "Epoch: [16/5], Step: [500/1875], D_loss: 0.522, G_loss: 2.086, D(x): 0.788, D(G(z)): 0.117\n",
      "Epoch: [16/5], Step: [1000/1875], D_loss: 0.631, G_loss: 2.035, D(x): 0.857, D(G(z)): 0.261\n",
      "Epoch: [16/5], Step: [1500/1875], D_loss: 0.417, G_loss: 1.951, D(x): 0.841, D(G(z)): 0.156\n",
      "==================================================================================================\n",
      "Epoch: [17/5], Step: [500/1875], D_loss: 0.681, G_loss: 3.193, D(x): 0.711, D(G(z)): 0.119\n",
      "Epoch: [17/5], Step: [1000/1875], D_loss: 1.135, G_loss: 2.064, D(x): 0.558, D(G(z)): 0.138\n",
      "Epoch: [17/5], Step: [1500/1875], D_loss: 0.496, G_loss: 1.783, D(x): 0.784, D(G(z)): 0.122\n",
      "==================================================================================================\n",
      "Epoch: [18/5], Step: [500/1875], D_loss: 0.389, G_loss: 3.135, D(x): 0.886, D(G(z)): 0.189\n",
      "Epoch: [18/5], Step: [1000/1875], D_loss: 0.21, G_loss: 3.692, D(x): 0.904, D(G(z)): 0.08\n",
      "Epoch: [18/5], Step: [1500/1875], D_loss: 0.335, G_loss: 3.105, D(x): 0.893, D(G(z)): 0.131\n",
      "==================================================================================================\n",
      "Epoch: [19/5], Step: [500/1875], D_loss: 0.615, G_loss: 2.149, D(x): 0.813, D(G(z)): 0.181\n",
      "Epoch: [19/5], Step: [1000/1875], D_loss: 0.607, G_loss: 2.837, D(x): 0.755, D(G(z)): 0.17\n",
      "Epoch: [19/5], Step: [1500/1875], D_loss: 0.646, G_loss: 1.862, D(x): 0.805, D(G(z)): 0.226\n",
      "==================================================================================================\n",
      "Epoch: [20/5], Step: [500/1875], D_loss: 0.919, G_loss: 2.078, D(x): 0.887, D(G(z)): 0.449\n",
      "Epoch: [20/5], Step: [1000/1875], D_loss: 0.863, G_loss: 2.344, D(x): 0.655, D(G(z)): 0.131\n",
      "Epoch: [20/5], Step: [1500/1875], D_loss: 1.013, G_loss: 2.478, D(x): 0.618, D(G(z)): 0.145\n",
      "==================================================================================================\n",
      "Epoch: [21/5], Step: [500/1875], D_loss: 0.917, G_loss: 1.589, D(x): 0.737, D(G(z)): 0.305\n",
      "Epoch: [21/5], Step: [1000/1875], D_loss: 0.841, G_loss: 2.33, D(x): 0.689, D(G(z)): 0.129\n",
      "Epoch: [21/5], Step: [1500/1875], D_loss: 0.735, G_loss: 1.894, D(x): 0.796, D(G(z)): 0.304\n",
      "==================================================================================================\n",
      "Epoch: [22/5], Step: [500/1875], D_loss: 0.764, G_loss: 1.711, D(x): 0.732, D(G(z)): 0.254\n",
      "Epoch: [22/5], Step: [1000/1875], D_loss: 0.477, G_loss: 1.88, D(x): 0.846, D(G(z)): 0.213\n",
      "Epoch: [22/5], Step: [1500/1875], D_loss: 0.698, G_loss: 3.551, D(x): 0.782, D(G(z)): 0.203\n",
      "==================================================================================================\n",
      "Epoch: [23/5], Step: [500/1875], D_loss: 0.736, G_loss: 2.519, D(x): 0.873, D(G(z)): 0.329\n"
     ]
    },
    {
     "name": "stdout",
     "output_type": "stream",
     "text": [
      "Epoch: [23/5], Step: [1000/1875], D_loss: 0.783, G_loss: 2.234, D(x): 0.744, D(G(z)): 0.22\n",
      "Epoch: [23/5], Step: [1500/1875], D_loss: 0.555, G_loss: 2.658, D(x): 0.75, D(G(z)): 0.087\n",
      "==================================================================================================\n",
      "Epoch: [24/5], Step: [500/1875], D_loss: 0.746, G_loss: 2.279, D(x): 0.641, D(G(z)): 0.101\n",
      "Epoch: [24/5], Step: [1000/1875], D_loss: 0.846, G_loss: 2.763, D(x): 0.669, D(G(z)): 0.182\n",
      "Epoch: [24/5], Step: [1500/1875], D_loss: 0.796, G_loss: 1.668, D(x): 0.637, D(G(z)): 0.159\n",
      "==================================================================================================\n",
      "Epoch: [25/5], Step: [500/1875], D_loss: 0.79, G_loss: 2.721, D(x): 0.692, D(G(z)): 0.165\n",
      "Epoch: [25/5], Step: [1000/1875], D_loss: 0.755, G_loss: 1.871, D(x): 0.836, D(G(z)): 0.307\n",
      "Epoch: [25/5], Step: [1500/1875], D_loss: 0.553, G_loss: 1.778, D(x): 0.833, D(G(z)): 0.252\n",
      "==================================================================================================\n",
      "Epoch: [26/5], Step: [500/1875], D_loss: 1.012, G_loss: 0.856, D(x): 0.664, D(G(z)): 0.244\n",
      "Epoch: [26/5], Step: [1000/1875], D_loss: 0.596, G_loss: 1.99, D(x): 0.757, D(G(z)): 0.209\n",
      "Epoch: [26/5], Step: [1500/1875], D_loss: 0.92, G_loss: 1.463, D(x): 0.811, D(G(z)): 0.416\n",
      "==================================================================================================\n",
      "Epoch: [27/5], Step: [500/1875], D_loss: 0.585, G_loss: 1.994, D(x): 0.757, D(G(z)): 0.216\n",
      "Epoch: [27/5], Step: [1000/1875], D_loss: 0.659, G_loss: 2.147, D(x): 0.768, D(G(z)): 0.224\n",
      "Epoch: [27/5], Step: [1500/1875], D_loss: 0.755, G_loss: 1.389, D(x): 0.809, D(G(z)): 0.331\n",
      "==================================================================================================\n",
      "Epoch: [28/5], Step: [500/1875], D_loss: 0.654, G_loss: 2.412, D(x): 0.846, D(G(z)): 0.319\n",
      "Epoch: [28/5], Step: [1000/1875], D_loss: 0.766, G_loss: 1.828, D(x): 0.868, D(G(z)): 0.364\n",
      "Epoch: [28/5], Step: [1500/1875], D_loss: 0.821, G_loss: 2.377, D(x): 0.766, D(G(z)): 0.312\n",
      "==================================================================================================\n",
      "Epoch: [29/5], Step: [500/1875], D_loss: 0.806, G_loss: 2.327, D(x): 0.673, D(G(z)): 0.192\n",
      "Epoch: [29/5], Step: [1000/1875], D_loss: 0.859, G_loss: 2.404, D(x): 0.657, D(G(z)): 0.172\n",
      "Epoch: [29/5], Step: [1500/1875], D_loss: 1.084, G_loss: 2.16, D(x): 0.787, D(G(z)): 0.377\n",
      "==================================================================================================\n",
      "Epoch: [30/5], Step: [500/1875], D_loss: 0.873, G_loss: 1.694, D(x): 0.619, D(G(z)): 0.235\n",
      "Epoch: [30/5], Step: [1000/1875], D_loss: 0.945, G_loss: 1.748, D(x): 0.655, D(G(z)): 0.227\n",
      "Epoch: [30/5], Step: [1500/1875], D_loss: 0.79, G_loss: 1.706, D(x): 0.768, D(G(z)): 0.31\n",
      "==================================================================================================\n",
      "Epoch: [31/5], Step: [500/1875], D_loss: 0.923, G_loss: 2.184, D(x): 0.712, D(G(z)): 0.331\n",
      "Epoch: [31/5], Step: [1000/1875], D_loss: 0.712, G_loss: 2.034, D(x): 0.672, D(G(z)): 0.118\n",
      "Epoch: [31/5], Step: [1500/1875], D_loss: 0.718, G_loss: 1.795, D(x): 0.755, D(G(z)): 0.269\n",
      "==================================================================================================\n",
      "Epoch: [32/5], Step: [500/1875], D_loss: 0.756, G_loss: 1.678, D(x): 0.744, D(G(z)): 0.254\n",
      "Epoch: [32/5], Step: [1000/1875], D_loss: 0.64, G_loss: 1.693, D(x): 0.779, D(G(z)): 0.233\n",
      "Epoch: [32/5], Step: [1500/1875], D_loss: 1.058, G_loss: 2.271, D(x): 0.7, D(G(z)): 0.313\n",
      "==================================================================================================\n",
      "Epoch: [33/5], Step: [500/1875], D_loss: 0.962, G_loss: 1.498, D(x): 0.759, D(G(z)): 0.386\n",
      "Epoch: [33/5], Step: [1000/1875], D_loss: 0.805, G_loss: 1.4, D(x): 0.722, D(G(z)): 0.309\n",
      "Epoch: [33/5], Step: [1500/1875], D_loss: 0.872, G_loss: 1.892, D(x): 0.7, D(G(z)): 0.229\n",
      "==================================================================================================\n",
      "Epoch: [34/5], Step: [500/1875], D_loss: 0.876, G_loss: 1.177, D(x): 0.724, D(G(z)): 0.318\n",
      "Epoch: [34/5], Step: [1000/1875], D_loss: 0.913, G_loss: 1.312, D(x): 0.749, D(G(z)): 0.322\n",
      "Epoch: [34/5], Step: [1500/1875], D_loss: 0.97, G_loss: 1.624, D(x): 0.61, D(G(z)): 0.242\n",
      "==================================================================================================\n",
      "Epoch: [35/5], Step: [500/1875], D_loss: 0.968, G_loss: 2.24, D(x): 0.608, D(G(z)): 0.17\n",
      "Epoch: [35/5], Step: [1000/1875], D_loss: 0.864, G_loss: 2.078, D(x): 0.75, D(G(z)): 0.338\n",
      "Epoch: [35/5], Step: [1500/1875], D_loss: 0.918, G_loss: 1.329, D(x): 0.683, D(G(z)): 0.292\n",
      "==================================================================================================\n",
      "Epoch: [36/5], Step: [500/1875], D_loss: 1.174, G_loss: 1.427, D(x): 0.688, D(G(z)): 0.393\n",
      "Epoch: [36/5], Step: [1000/1875], D_loss: 0.897, G_loss: 1.377, D(x): 0.698, D(G(z)): 0.283\n",
      "Epoch: [36/5], Step: [1500/1875], D_loss: 1.548, G_loss: 1.232, D(x): 0.475, D(G(z)): 0.326\n",
      "==================================================================================================\n",
      "Epoch: [37/5], Step: [500/1875], D_loss: 1.14, G_loss: 1.828, D(x): 0.743, D(G(z)): 0.388\n",
      "Epoch: [37/5], Step: [1000/1875], D_loss: 0.82, G_loss: 1.793, D(x): 0.675, D(G(z)): 0.199\n",
      "Epoch: [37/5], Step: [1500/1875], D_loss: 1.068, G_loss: 1.329, D(x): 0.742, D(G(z)): 0.38\n",
      "==================================================================================================\n",
      "Epoch: [38/5], Step: [500/1875], D_loss: 0.835, G_loss: 1.668, D(x): 0.725, D(G(z)): 0.274\n",
      "Epoch: [38/5], Step: [1000/1875], D_loss: 0.9, G_loss: 1.382, D(x): 0.707, D(G(z)): 0.328\n",
      "Epoch: [38/5], Step: [1500/1875], D_loss: 1.023, G_loss: 1.407, D(x): 0.82, D(G(z)): 0.425\n",
      "==================================================================================================\n",
      "Epoch: [39/5], Step: [500/1875], D_loss: 0.824, G_loss: 1.934, D(x): 0.771, D(G(z)): 0.291\n",
      "Epoch: [39/5], Step: [1000/1875], D_loss: 1.227, G_loss: 1.462, D(x): 0.605, D(G(z)): 0.356\n",
      "Epoch: [39/5], Step: [1500/1875], D_loss: 0.816, G_loss: 2.006, D(x): 0.661, D(G(z)): 0.167\n",
      "==================================================================================================\n",
      "Epoch: [40/5], Step: [500/1875], D_loss: 1.097, G_loss: 1.427, D(x): 0.662, D(G(z)): 0.428\n",
      "Epoch: [40/5], Step: [1000/1875], D_loss: 0.929, G_loss: 2.117, D(x): 0.683, D(G(z)): 0.285\n",
      "Epoch: [40/5], Step: [1500/1875], D_loss: 0.868, G_loss: 1.46, D(x): 0.745, D(G(z)): 0.342\n",
      "==================================================================================================\n",
      "Epoch: [41/5], Step: [500/1875], D_loss: 0.945, G_loss: 1.563, D(x): 0.626, D(G(z)): 0.252\n",
      "Epoch: [41/5], Step: [1000/1875], D_loss: 0.808, G_loss: 2.039, D(x): 0.674, D(G(z)): 0.206\n",
      "Epoch: [41/5], Step: [1500/1875], D_loss: 1.123, G_loss: 1.327, D(x): 0.665, D(G(z)): 0.402\n",
      "==================================================================================================\n",
      "Epoch: [42/5], Step: [500/1875], D_loss: 0.878, G_loss: 1.71, D(x): 0.758, D(G(z)): 0.323\n",
      "Epoch: [42/5], Step: [1000/1875], D_loss: 0.72, G_loss: 1.583, D(x): 0.748, D(G(z)): 0.28\n",
      "Epoch: [42/5], Step: [1500/1875], D_loss: 1.388, G_loss: 1.951, D(x): 0.618, D(G(z)): 0.451\n",
      "==================================================================================================\n",
      "Epoch: [43/5], Step: [500/1875], D_loss: 1.06, G_loss: 1.327, D(x): 0.719, D(G(z)): 0.369\n",
      "Epoch: [43/5], Step: [1000/1875], D_loss: 1.053, G_loss: 1.891, D(x): 0.648, D(G(z)): 0.279\n",
      "Epoch: [43/5], Step: [1500/1875], D_loss: 0.959, G_loss: 1.7, D(x): 0.716, D(G(z)): 0.338\n",
      "==================================================================================================\n",
      "Epoch: [44/5], Step: [500/1875], D_loss: 1.033, G_loss: 1.09, D(x): 0.761, D(G(z)): 0.422\n",
      "Epoch: [44/5], Step: [1000/1875], D_loss: 0.838, G_loss: 1.629, D(x): 0.768, D(G(z)): 0.345\n",
      "Epoch: [44/5], Step: [1500/1875], D_loss: 0.809, G_loss: 1.695, D(x): 0.713, D(G(z)): 0.301\n",
      "==================================================================================================\n",
      "Epoch: [45/5], Step: [500/1875], D_loss: 0.795, G_loss: 1.424, D(x): 0.735, D(G(z)): 0.288\n"
     ]
    },
    {
     "name": "stdout",
     "output_type": "stream",
     "text": [
      "Epoch: [45/5], Step: [1000/1875], D_loss: 0.928, G_loss: 1.234, D(x): 0.655, D(G(z)): 0.306\n",
      "Epoch: [45/5], Step: [1500/1875], D_loss: 1.059, G_loss: 1.895, D(x): 0.732, D(G(z)): 0.405\n",
      "==================================================================================================\n",
      "Epoch: [46/5], Step: [500/1875], D_loss: 1.063, G_loss: 1.137, D(x): 0.692, D(G(z)): 0.377\n",
      "Epoch: [46/5], Step: [1000/1875], D_loss: 0.791, G_loss: 1.568, D(x): 0.669, D(G(z)): 0.227\n",
      "Epoch: [46/5], Step: [1500/1875], D_loss: 1.18, G_loss: 1.705, D(x): 0.562, D(G(z)): 0.311\n",
      "==================================================================================================\n",
      "Epoch: [47/5], Step: [500/1875], D_loss: 0.86, G_loss: 1.935, D(x): 0.629, D(G(z)): 0.199\n",
      "Epoch: [47/5], Step: [1000/1875], D_loss: 0.84, G_loss: 1.772, D(x): 0.677, D(G(z)): 0.237\n",
      "Epoch: [47/5], Step: [1500/1875], D_loss: 0.726, G_loss: 1.697, D(x): 0.728, D(G(z)): 0.204\n",
      "==================================================================================================\n",
      "Epoch: [48/5], Step: [500/1875], D_loss: 0.731, G_loss: 1.711, D(x): 0.783, D(G(z)): 0.33\n",
      "Epoch: [48/5], Step: [1000/1875], D_loss: 1.214, G_loss: 1.364, D(x): 0.628, D(G(z)): 0.393\n",
      "Epoch: [48/5], Step: [1500/1875], D_loss: 0.772, G_loss: 1.637, D(x): 0.704, D(G(z)): 0.273\n",
      "==================================================================================================\n",
      "Epoch: [49/5], Step: [500/1875], D_loss: 0.833, G_loss: 0.84, D(x): 0.856, D(G(z)): 0.429\n",
      "Epoch: [49/5], Step: [1000/1875], D_loss: 1.1, G_loss: 1.1, D(x): 0.627, D(G(z)): 0.352\n",
      "Epoch: [49/5], Step: [1500/1875], D_loss: 0.806, G_loss: 1.868, D(x): 0.7, D(G(z)): 0.255\n",
      "==================================================================================================\n",
      "Epoch: [50/5], Step: [500/1875], D_loss: 0.934, G_loss: 1.523, D(x): 0.714, D(G(z)): 0.34\n",
      "Epoch: [50/5], Step: [1000/1875], D_loss: 0.791, G_loss: 1.994, D(x): 0.669, D(G(z)): 0.206\n",
      "Epoch: [50/5], Step: [1500/1875], D_loss: 1.139, G_loss: 0.949, D(x): 0.641, D(G(z)): 0.377\n",
      "==================================================================================================\n"
     ]
    }
   ],
   "source": [
    "# Create a training structure\n",
    "total_steps = len(data_loader)\n",
    "collect_x_gen = []\n",
    "for epoch in range(50):\n",
    "    for i, (images, _) in enumerate(data_loader):\n",
    "        images = images.reshape(batch_size, -1).to(device)\n",
    "        \n",
    "        # Create labels with which we identify the data\n",
    "        real_labels = torch.ones(batch_size, 1).to(device)\n",
    "        fake_labels = torch.zeros(batch_size, 1).to(device)\n",
    "        \n",
    "        # !!!!!!!!!!!!!!!!!!!!!!! TRAIN THE DISCRIMINATOR !!!!!!!!!!!!!!!!!!!!!!!\n",
    "        outputs = D(images)\n",
    "        d_loss_real = criterion(outputs, real_labels)\n",
    "        real_score = outputs\n",
    "        \n",
    "        # Computer the Binary Cross Entropy with fake images, that are generated by the Generator from random noise\n",
    "        z = torch.randn(batch_size, latent_size).to(device)\n",
    "        fake_images = G(z)\n",
    "        outputs = D(fake_images)\n",
    "        d_loss_fake = criterion(outputs, fake_labels)\n",
    "        fake_score = outputs\n",
    "        \n",
    "        # Calculate the value for backpropogation and optimize\n",
    "        d_loss = d_loss_real + d_loss_fake\n",
    "        reset_grad()\n",
    "        d_loss.backward()\n",
    "        d_optimizer.step()\n",
    "        \n",
    "        \n",
    "        # !!!!!!!!!!!!!!!!!!!!!!! TRAIN THE GENERATOR !!!!!!!!!!!!!!!!!!!!!!!\n",
    "        z = torch.randn(batch_size, latent_size).to(device)\n",
    "        fake_images = G(z)\n",
    "        outputs = D(fake_images)\n",
    "        \n",
    "        # We train G to maximize log(D(G(z)) instead of minimizing log(1-D(G(z)))\n",
    "        g_loss = criterion(outputs, real_labels)\n",
    "        \n",
    "        # Backpropogation and optimization\n",
    "        reset_grad()\n",
    "        g_loss.backward()\n",
    "        g_optimizer.step()\n",
    "        \n",
    "        if (i+1) % 500 == 0:\n",
    "            log = (\n",
    "                f\"Epoch: [{epoch+1}/{num_epochs}], \"             \\\n",
    "                f\"Step: [{i+1}/{total_steps}], \"                 \\\n",
    "                f\"D_loss: {round(d_loss.item(), 3)}, \"           \\\n",
    "                f\"G_loss: {round(g_loss.item(), 3)}, \"           \\\n",
    "                f\"D(x): {round(real_score.mean().item(), 3)}, \"  \\\n",
    "                f\"D(G(z)): {round(fake_score.mean().item(), 3)}\"\n",
    "            )\n",
    "            print(log)\n",
    "    print(\"==================================================================================================\")"
   ]
  },
  {
   "cell_type": "code",
   "execution_count": 234,
   "metadata": {},
   "outputs": [
    {
     "data": {
      "text/plain": [
       "<matplotlib.image.AxesImage at 0x253e7f9a080>"
      ]
     },
     "execution_count": 234,
     "metadata": {},
     "output_type": "execute_result"
    },
    {
     "data": {
      "image/png": "[encoded data removed]",
      "text/plain": [
       "<Figure size 432x288 with 1 Axes>"
      ]
     },
     "metadata": {
      "needs_background": "light"
     },
     "output_type": "display_data"
    }
   ],
   "source": [
    "some_noise = torch.randn(1, latent_size).to(device)\n",
    "x_gen = G(some_noise)\n",
    "plt.imshow(x_gen.detach().clone().cpu().reshape(28, 28))"
   ]
  },
  {
   "cell_type": "code",
   "execution_count": 235,
   "metadata": {},
   "outputs": [],
   "source": [
    "# Save the model checkpoints \n",
    "torch.save(G.state_dict(), 'G.ckpt')\n",
    "torch.save(D.state_dict(), 'D.ckpt')"
   ]
  }
 ],
 "metadata": {
  "kernelspec": {
   "display_name": "Python 3.7.3 64-bit ('PyTorch2019': conda)",
   "language": "python",
   "name": "python37364bitpytorch2019conda6b5071966ab649f39402bb9e20bc54dd"
  },
  "language_info": {
   "codemirror_mode": {
    "name": "ipython",
    "version": 3
   },
   "file_extension": ".py",
   "mimetype": "text/x-python",
   "name": "python",
   "nbconvert_exporter": "python",
   "pygments_lexer": "ipython3",
   "version": "3.7.3"
  }
 },
 "nbformat": 4,
 "nbformat_minor": 2
}
